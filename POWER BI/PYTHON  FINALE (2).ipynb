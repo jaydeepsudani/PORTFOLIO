{
 "cells": [
  {
   "cell_type": "code",
   "execution_count": 1,
   "id": "6036d4e5",
   "metadata": {},
   "outputs": [
    {
     "name": "stdout",
     "output_type": "stream",
     "text": [
      "hello world !\n"
     ]
    }
   ],
   "source": [
    "print(\"hello world !\")"
   ]
  },
  {
   "cell_type": "markdown",
   "id": "c07f9080",
   "metadata": {},
   "source": [
    " # variable"
   ]
  },
  {
   "cell_type": "code",
   "execution_count": 2,
   "id": "56dcfd50",
   "metadata": {},
   "outputs": [],
   "source": [
    "## string"
   ]
  },
  {
   "cell_type": "code",
   "execution_count": 3,
   "id": "2de50a6c",
   "metadata": {},
   "outputs": [],
   "source": [
    "fruits=(\"mango\",\"banana\",\"strawberry\",\"grapes\")"
   ]
  },
  {
   "cell_type": "code",
   "execution_count": 4,
   "id": "4a481ced",
   "metadata": {},
   "outputs": [
    {
     "name": "stdout",
     "output_type": "stream",
     "text": [
      "('mango', 'banana', 'strawberry', 'grapes')\n"
     ]
    }
   ],
   "source": [
    "print(fruits)"
   ]
  },
  {
   "cell_type": "code",
   "execution_count": 5,
   "id": "25cf2e0b",
   "metadata": {},
   "outputs": [
    {
     "name": "stdout",
     "output_type": "stream",
     "text": [
      "('tomato', 'potato', 'onion', 'bringle')\n"
     ]
    }
   ],
   "source": [
    "veg=(\"tomato\",\"potato\",\"onion\",\"bringle\")\n",
    "print(veg)"
   ]
  },
  {
   "cell_type": "code",
   "execution_count": 1,
   "id": "16ae22e0",
   "metadata": {},
   "outputs": [
    {
     "name": "stdout",
     "output_type": "stream",
     "text": [
      "('circlr', 'triangle', 'square', 'line')\n"
     ]
    }
   ],
   "source": [
    "shape=(\"circlr\",\"triangle\",\"square\",\"line\")\n",
    "print(shape)"
   ]
  },
  {
   "cell_type": "code",
   "execution_count": 3,
   "id": "93ef8309",
   "metadata": {},
   "outputs": [
    {
     "name": "stdout",
     "output_type": "stream",
     "text": [
      "circlr\n",
      "triangle\n",
      "square\n",
      "line\n"
     ]
    }
   ],
   "source": [
    "one, two,three,four = shape\n",
    "print(one)\n",
    "print(two)\n",
    "print(three)\n",
    "print(four)\n"
   ]
  },
  {
   "cell_type": "code",
   "execution_count": 8,
   "id": "b4ea8ab3",
   "metadata": {},
   "outputs": [
    {
     "name": "stdout",
     "output_type": "stream",
     "text": [
      "('mango', 'banana', 'strawberry', 'grapes') ('tomato', 'potato', 'onion', 'bringle') ('circlr', 'triangle', 'square', 'line')\n"
     ]
    }
   ],
   "source": [
    "print(fruits,veg,shape)"
   ]
  },
  {
   "cell_type": "code",
   "execution_count": 9,
   "id": "6b6bf4ac",
   "metadata": {},
   "outputs": [
    {
     "name": "stdout",
     "output_type": "stream",
     "text": [
      "<class 'tuple'>\n"
     ]
    }
   ],
   "source": [
    "print(type(fruits))"
   ]
  },
  {
   "cell_type": "code",
   "execution_count": null,
   "id": "6a5dabcc",
   "metadata": {},
   "outputs": [],
   "source": []
  },
  {
   "cell_type": "markdown",
   "id": "63d2c6e4",
   "metadata": {},
   "source": [
    "## numeric\n"
   ]
  },
  {
   "cell_type": "code",
   "execution_count": 10,
   "id": "62380dae",
   "metadata": {},
   "outputs": [
    {
     "name": "stdout",
     "output_type": "stream",
     "text": [
      "<class 'int'>\n",
      "<class 'float'>\n",
      "<class 'complex'>\n"
     ]
    }
   ],
   "source": [
    "print(type(50))\n",
    "print(type(45.58))\n",
    "print(type(5j))\n"
   ]
  },
  {
   "cell_type": "code",
   "execution_count": 11,
   "id": "97584175",
   "metadata": {},
   "outputs": [
    {
     "name": "stdout",
     "output_type": "stream",
     "text": [
      "45\n"
     ]
    }
   ],
   "source": [
    "print(int(45.58))"
   ]
  },
  {
   "cell_type": "code",
   "execution_count": 12,
   "id": "f6987b7e",
   "metadata": {},
   "outputs": [
    {
     "name": "stdout",
     "output_type": "stream",
     "text": [
      "78.0\n"
     ]
    }
   ],
   "source": [
    "print(float(78))"
   ]
  },
  {
   "cell_type": "code",
   "execution_count": 13,
   "id": "62f599b5",
   "metadata": {},
   "outputs": [
    {
     "name": "stdout",
     "output_type": "stream",
     "text": [
      "True\n"
     ]
    }
   ],
   "source": [
    "print(bool(85))"
   ]
  },
  {
   "cell_type": "code",
   "execution_count": 14,
   "id": "adcd2b36",
   "metadata": {},
   "outputs": [
    {
     "name": "stdout",
     "output_type": "stream",
     "text": [
      "False\n"
     ]
    }
   ],
   "source": [
    "print(bool(0))"
   ]
  },
  {
   "cell_type": "code",
   "execution_count": 15,
   "id": "a16fa36b",
   "metadata": {},
   "outputs": [
    {
     "name": "stdout",
     "output_type": "stream",
     "text": [
      "range(0, 6)\n"
     ]
    }
   ],
   "source": [
    "a=range(6)\n",
    "print(a)"
   ]
  },
  {
   "cell_type": "code",
   "execution_count": 16,
   "id": "4df8f3ab",
   "metadata": {},
   "outputs": [
    {
     "name": "stdout",
     "output_type": "stream",
     "text": [
      "range(0, 8)\n"
     ]
    }
   ],
   "source": [
    "b=range(8)\n",
    "print(b)"
   ]
  },
  {
   "cell_type": "code",
   "execution_count": 17,
   "id": "a46c2303",
   "metadata": {},
   "outputs": [],
   "source": [
    "## casting\n"
   ]
  },
  {
   "cell_type": "code",
   "execution_count": 18,
   "id": "07d84bd5",
   "metadata": {},
   "outputs": [
    {
     "name": "stdout",
     "output_type": "stream",
     "text": [
      "95.0\n"
     ]
    }
   ],
   "source": [
    "a=float(95)\n",
    "print(a)"
   ]
  },
  {
   "cell_type": "code",
   "execution_count": 19,
   "id": "e2c97f26",
   "metadata": {},
   "outputs": [
    {
     "name": "stdout",
     "output_type": "stream",
     "text": [
      "32\n"
     ]
    }
   ],
   "source": [
    "a=int(32.25)\n",
    "print(a)"
   ]
  },
  {
   "cell_type": "code",
   "execution_count": 20,
   "id": "552bf672",
   "metadata": {},
   "outputs": [
    {
     "name": "stdout",
     "output_type": "stream",
     "text": [
      "False\n"
     ]
    }
   ],
   "source": [
    "a=bool(0)\n",
    "print(a)"
   ]
  },
  {
   "cell_type": "code",
   "execution_count": null,
   "id": "69888b1e",
   "metadata": {},
   "outputs": [],
   "source": []
  },
  {
   "cell_type": "markdown",
   "id": "ad6db713",
   "metadata": {},
   "source": [
    "## slicing\n"
   ]
  },
  {
   "cell_type": "code",
   "execution_count": 5,
   "id": "157595a5",
   "metadata": {},
   "outputs": [
    {
     "name": "stdout",
     "output_type": "stream",
     "text": [
      "hello how are you?\n"
     ]
    }
   ],
   "source": [
    "a=(\"hello how are you?\")\n",
    "print(a)\n"
   ]
  },
  {
   "cell_type": "code",
   "execution_count": 22,
   "id": "88334649",
   "metadata": {},
   "outputs": [
    {
     "data": {
      "text/plain": [
       "'o'"
      ]
     },
     "execution_count": 22,
     "metadata": {},
     "output_type": "execute_result"
    }
   ],
   "source": [
    "a[4]"
   ]
  },
  {
   "cell_type": "code",
   "execution_count": 23,
   "id": "943ae65a",
   "metadata": {},
   "outputs": [
    {
     "data": {
      "text/plain": [
       "'hello'"
      ]
     },
     "execution_count": 23,
     "metadata": {},
     "output_type": "execute_result"
    }
   ],
   "source": [
    "a[:5]"
   ]
  },
  {
   "cell_type": "code",
   "execution_count": 24,
   "id": "8ecdf543",
   "metadata": {},
   "outputs": [
    {
     "data": {
      "text/plain": [
       "'hello how are you?'"
      ]
     },
     "execution_count": 24,
     "metadata": {},
     "output_type": "execute_result"
    }
   ],
   "source": [
    "a[:]"
   ]
  },
  {
   "cell_type": "code",
   "execution_count": 25,
   "id": "06a1f624",
   "metadata": {},
   "outputs": [
    {
     "data": {
      "text/plain": [
       "'?uoy era woh olleh'"
      ]
     },
     "execution_count": 25,
     "metadata": {},
     "output_type": "execute_result"
    }
   ],
   "source": [
    "a[::-1]"
   ]
  },
  {
   "cell_type": "code",
   "execution_count": 26,
   "id": "88235429",
   "metadata": {},
   "outputs": [
    {
     "data": {
      "text/plain": [
       "'you'"
      ]
     },
     "execution_count": 26,
     "metadata": {},
     "output_type": "execute_result"
    }
   ],
   "source": [
    "a[-4:-1]"
   ]
  },
  {
   "cell_type": "code",
   "execution_count": 7,
   "id": "6306a5fd",
   "metadata": {},
   "outputs": [
    {
     "data": {
      "text/plain": [
       "'HELLO HOW ARE YOU?'"
      ]
     },
     "execution_count": 7,
     "metadata": {},
     "output_type": "execute_result"
    }
   ],
   "source": [
    "a.upper()\n"
   ]
  },
  {
   "cell_type": "code",
   "execution_count": 8,
   "id": "ea03c78c",
   "metadata": {},
   "outputs": [
    {
     "data": {
      "text/plain": [
       "'hello how are you?'"
      ]
     },
     "execution_count": 8,
     "metadata": {},
     "output_type": "execute_result"
    }
   ],
   "source": [
    "a.lower()\n"
   ]
  },
  {
   "cell_type": "code",
   "execution_count": 29,
   "id": "676b0985",
   "metadata": {},
   "outputs": [
    {
     "data": {
      "text/plain": [
       "'hellx hxw are yxu?'"
      ]
     },
     "execution_count": 29,
     "metadata": {},
     "output_type": "execute_result"
    }
   ],
   "source": [
    "a.replace(\"o\",\"x\")"
   ]
  },
  {
   "cell_type": "code",
   "execution_count": 10,
   "id": "f2d9c919",
   "metadata": {},
   "outputs": [],
   "source": [
    "b=(\"what are you doing?\")"
   ]
  },
  {
   "cell_type": "code",
   "execution_count": 11,
   "id": "92123c69",
   "metadata": {},
   "outputs": [
    {
     "name": "stdout",
     "output_type": "stream",
     "text": [
      "a\n",
      "what \n",
      "?gniod uoy era tahw\n",
      "WHAT ARE YOU DOING?\n",
      "what are you doing?\n",
      "whet ere you doing?\n"
     ]
    }
   ],
   "source": [
    "\n",
    "print(b[5])\n",
    "\n",
    "print(b[:5])\n",
    "\n",
    "print(b[::-1])\n",
    "\n",
    "print(b.upper())\n",
    "\n",
    "print(b.lower())\n",
    "\n",
    "print(b.replace(\"a\",\"e\"))\n"
   ]
  },
  {
   "cell_type": "code",
   "execution_count": 28,
   "id": "e6886f4a",
   "metadata": {},
   "outputs": [
    {
     "name": "stdout",
     "output_type": "stream",
     "text": [
      "True\n"
     ]
    }
   ],
   "source": [
    "# to check word is in sentence\n",
    "\n",
    "txt = \"The best things in life are free!\"\n",
    "print(\"free\" in txt)\n"
   ]
  },
  {
   "cell_type": "code",
   "execution_count": 29,
   "id": "8335b1f0",
   "metadata": {},
   "outputs": [
    {
     "name": "stdout",
     "output_type": "stream",
     "text": [
      "Hello, World!\n"
     ]
    }
   ],
   "source": [
    "# remove whitespace from beggining and end of sentence\n",
    "\n",
    "a = \"   Hello, World! \"\n",
    "print(a.strip()) \n"
   ]
  },
  {
   "cell_type": "code",
   "execution_count": 30,
   "id": "f7915251",
   "metadata": {},
   "outputs": [
    {
     "name": "stdout",
     "output_type": "stream",
     "text": [
      "['Hello', ' World!']\n"
     ]
    }
   ],
   "source": [
    "# split string using separater\n",
    "\n",
    "a = \"Hello, World!\"\n",
    "print(a.split(\",\"))  # \"hello\"    \"world!\"  alag thaya"
   ]
  },
  {
   "cell_type": "code",
   "execution_count": 34,
   "id": "75a13487",
   "metadata": {},
   "outputs": [
    {
     "name": "stdout",
     "output_type": "stream",
     "text": [
      "['Hello, World', '']\n"
     ]
    }
   ],
   "source": [
    "a = \"Hello, World!\"\n",
    "print(a.split(\"!\")) "
   ]
  },
  {
   "cell_type": "code",
   "execution_count": 35,
   "id": "2545a2c2",
   "metadata": {},
   "outputs": [
    {
     "name": "stdout",
     "output_type": "stream",
     "text": [
      "My name is John, and I am 36\n"
     ]
    }
   ],
   "source": [
    "# Use the format() method to insert numbers into strings:\n",
    "\n",
    "age = 36\n",
    "txt = \"My name is John, and I am {}\"\n",
    "print(txt.format(age))"
   ]
  },
  {
   "cell_type": "code",
   "execution_count": 38,
   "id": "04e7288c",
   "metadata": {},
   "outputs": [
    {
     "data": {
      "text/plain": [
       "('We are the so-called \"Vikings\" from the north.', 36)"
      ]
     },
     "execution_count": 38,
     "metadata": {},
     "output_type": "execute_result"
    }
   ],
   "source": [
    "txt,age"
   ]
  },
  {
   "cell_type": "code",
   "execution_count": null,
   "id": "7af3acfa",
   "metadata": {},
   "outputs": [],
   "source": [
    "quantity = 3\n",
    "itemno = 567\n",
    "price = 49.95\n",
    "myorder = \"I want {} pieces of item {} for {} dollars.\"\n",
    "print(myorder.format(quantity, itemno, price))"
   ]
  },
  {
   "cell_type": "code",
   "execution_count": 37,
   "id": "8fcf63cf",
   "metadata": {},
   "outputs": [
    {
     "data": {
      "text/plain": [
       "'We are the so-called \"Vikings\" from the north.'"
      ]
     },
     "execution_count": 37,
     "metadata": {},
     "output_type": "execute_result"
    }
   ],
   "source": [
    "# sentence ma  \"word\" aapavaa\n",
    "\n",
    "txt = \"We are the so-called \\\"Vikings\\\" from the north.\"\n",
    "txt"
   ]
  },
  {
   "cell_type": "code",
   "execution_count": null,
   "id": "a9538de4",
   "metadata": {},
   "outputs": [],
   "source": []
  },
  {
   "cell_type": "markdown",
   "id": "e1b07aa1",
   "metadata": {},
   "source": [
    "## list"
   ]
  },
  {
   "cell_type": "code",
   "execution_count": 13,
   "id": "5a5d2a28",
   "metadata": {},
   "outputs": [
    {
     "name": "stdout",
     "output_type": "stream",
     "text": [
      "[25, 63, 45, 56, 78, 89]\n"
     ]
    }
   ],
   "source": [
    "\n",
    "\n",
    "x=[25, 23, 45, 56, 78, 89]\n",
    "x[1]=63\n",
    "print(x)\n",
    "\n",
    "\n",
    "\n"
   ]
  },
  {
   "cell_type": "code",
   "execution_count": 33,
   "id": "c0f17fab",
   "metadata": {},
   "outputs": [
    {
     "name": "stdout",
     "output_type": "stream",
     "text": [
      "[25, 63, 45, 56]\n"
     ]
    }
   ],
   "source": [
    "print(x[:-2])\n"
   ]
  },
  {
   "cell_type": "code",
   "execution_count": 34,
   "id": "cec791e0",
   "metadata": {},
   "outputs": [
    {
     "name": "stdout",
     "output_type": "stream",
     "text": [
      "[25, 63, 45, 56, 78, 89]\n"
     ]
    }
   ],
   "source": [
    "print(x)"
   ]
  },
  {
   "cell_type": "code",
   "execution_count": 35,
   "id": "bdd19036",
   "metadata": {},
   "outputs": [
    {
     "data": {
      "text/plain": [
       "[89, 78, 56, 45, 63, 25]"
      ]
     },
     "execution_count": 35,
     "metadata": {},
     "output_type": "execute_result"
    }
   ],
   "source": [
    "x[::-1]"
   ]
  },
  {
   "cell_type": "code",
   "execution_count": 36,
   "id": "f3f73c55",
   "metadata": {},
   "outputs": [
    {
     "data": {
      "text/plain": [
       "6"
      ]
     },
     "execution_count": 36,
     "metadata": {},
     "output_type": "execute_result"
    }
   ],
   "source": [
    "len(x)"
   ]
  },
  {
   "cell_type": "code",
   "execution_count": 37,
   "id": "db8e8649",
   "metadata": {},
   "outputs": [
    {
     "name": "stdout",
     "output_type": "stream",
     "text": [
      "[25, 'banana', 'cherry', 56, 78, 89]\n"
     ]
    }
   ],
   "source": [
    "x[1:3]=(\"banana\",\"cherry\")\n",
    "print(x)"
   ]
  },
  {
   "cell_type": "code",
   "execution_count": 38,
   "id": "0daaf216",
   "metadata": {},
   "outputs": [
    {
     "name": "stdout",
     "output_type": "stream",
     "text": [
      "[25, 'banana', 'wow', 'cherry', 56, 78, 89]\n"
     ]
    }
   ],
   "source": [
    "x.insert(2,\"wow\")\n",
    "print(x)"
   ]
  },
  {
   "cell_type": "code",
   "execution_count": 18,
   "id": "f141ec38",
   "metadata": {},
   "outputs": [],
   "source": [
    "y=(shape)"
   ]
  },
  {
   "cell_type": "code",
   "execution_count": 40,
   "id": "2cdaa249",
   "metadata": {},
   "outputs": [
    {
     "name": "stdout",
     "output_type": "stream",
     "text": [
      "[25, 'banana', 'wow', 'cherry', 56, 78, 89, 'circlr', 'triangle', 'square', 'line']\n"
     ]
    }
   ],
   "source": [
    "x.extend(y)\n",
    "print(x)"
   ]
  },
  {
   "cell_type": "code",
   "execution_count": null,
   "id": "7124b789",
   "metadata": {},
   "outputs": [],
   "source": []
  },
  {
   "cell_type": "code",
   "execution_count": 41,
   "id": "78d70b19",
   "metadata": {},
   "outputs": [
    {
     "name": "stdout",
     "output_type": "stream",
     "text": [
      "[25, 'banana', 'wow', 'cherry', 56, 78, 89, 'circlr', 'triangle', 'square', 'line', 'hexagonal']\n"
     ]
    }
   ],
   "source": [
    "x.append(\"hexagonal\") \n",
    "print(x)"
   ]
  },
  {
   "cell_type": "code",
   "execution_count": 42,
   "id": "56a05489",
   "metadata": {},
   "outputs": [],
   "source": [
    "# remove\n"
   ]
  },
  {
   "cell_type": "code",
   "execution_count": 43,
   "id": "b403fd58",
   "metadata": {},
   "outputs": [
    {
     "name": "stdout",
     "output_type": "stream",
     "text": [
      "[25, 'banana', 'wow', 'cherry', 56, 78, 'circlr', 'triangle', 'square', 'line', 'hexagonal']\n"
     ]
    }
   ],
   "source": [
    "x.remove(89)\n",
    "print(x)"
   ]
  },
  {
   "cell_type": "code",
   "execution_count": 44,
   "id": "5000879e",
   "metadata": {},
   "outputs": [
    {
     "data": {
      "text/plain": [
       "'wow'"
      ]
     },
     "execution_count": 44,
     "metadata": {},
     "output_type": "execute_result"
    }
   ],
   "source": [
    "x.pop(2)"
   ]
  },
  {
   "cell_type": "code",
   "execution_count": 45,
   "id": "b95d3214",
   "metadata": {},
   "outputs": [
    {
     "name": "stdout",
     "output_type": "stream",
     "text": [
      "[25, 'banana', 'cherry', 56, 78, 'circlr', 'triangle', 'square', 'line', 'hexagonal']\n"
     ]
    }
   ],
   "source": [
    "print(x)"
   ]
  },
  {
   "cell_type": "code",
   "execution_count": 46,
   "id": "76953fb3",
   "metadata": {},
   "outputs": [
    {
     "name": "stdout",
     "output_type": "stream",
     "text": [
      "['banana', 'cherry', 56, 78, 'circlr', 'triangle', 'square', 'line', 'hexagonal']\n"
     ]
    }
   ],
   "source": [
    "del x[0]\n",
    "print(x)"
   ]
  },
  {
   "cell_type": "code",
   "execution_count": 47,
   "id": "7e1c6407",
   "metadata": {},
   "outputs": [
    {
     "name": "stdout",
     "output_type": "stream",
     "text": [
      "[]\n"
     ]
    }
   ],
   "source": [
    "x.clear()\n",
    "print(x)"
   ]
  },
  {
   "cell_type": "code",
   "execution_count": 48,
   "id": "fbcc47bc",
   "metadata": {},
   "outputs": [],
   "source": [
    "# list 2.0\n"
   ]
  },
  {
   "cell_type": "code",
   "execution_count": 49,
   "id": "cecc9865",
   "metadata": {},
   "outputs": [
    {
     "name": "stdout",
     "output_type": "stream",
     "text": [
      "[25, 63, 45, 56, 78, 89]\n"
     ]
    }
   ],
   "source": [
    "\n",
    "\n",
    "x=[25, 23, 45, 56, 78, 89]\n",
    "x[1]=63\n",
    "print(x)\n",
    "\n",
    "\n"
   ]
  },
  {
   "cell_type": "code",
   "execution_count": 50,
   "id": "ee623c5e",
   "metadata": {},
   "outputs": [
    {
     "name": "stdout",
     "output_type": "stream",
     "text": [
      "['apple', 'orange', 'banana', 'cherry']\n"
     ]
    }
   ],
   "source": [
    "thislist = [\"apple\", \"banana\", \"cherry\"]\n",
    "thislist.insert(1, \"orange\")\n",
    "print(thislist)"
   ]
  },
  {
   "cell_type": "code",
   "execution_count": 51,
   "id": "6b242ae8",
   "metadata": {},
   "outputs": [
    {
     "name": "stdout",
     "output_type": "stream",
     "text": [
      "['apple', 'orange', 'banana', 'cherry', 45]\n"
     ]
    }
   ],
   "source": [
    "thislist.append(45)\n",
    "print(thislist)"
   ]
  },
  {
   "cell_type": "code",
   "execution_count": 52,
   "id": "1c974ea2",
   "metadata": {},
   "outputs": [
    {
     "name": "stdout",
     "output_type": "stream",
     "text": [
      "('tomato', 'potato', 'onion', 'bringle')\n"
     ]
    }
   ],
   "source": [
    "b=(veg)\n",
    "print(b)"
   ]
  },
  {
   "cell_type": "code",
   "execution_count": 53,
   "id": "7529139e",
   "metadata": {},
   "outputs": [
    {
     "name": "stdout",
     "output_type": "stream",
     "text": [
      "['apple', 'orange', 'banana', 'cherry', 45, 'tomato', 'potato', 'onion', 'bringle']\n"
     ]
    }
   ],
   "source": [
    "thislist.extend(b)\n",
    "print(thislist)"
   ]
  },
  {
   "cell_type": "code",
   "execution_count": 54,
   "id": "487294e4",
   "metadata": {},
   "outputs": [
    {
     "name": "stdout",
     "output_type": "stream",
     "text": [
      "['apple', 'banana', 'cherry', 45, 'tomato', 'potato', 'onion', 'bringle']\n"
     ]
    }
   ],
   "source": [
    "thislist.pop(1)\n",
    "print(thislist)"
   ]
  },
  {
   "cell_type": "code",
   "execution_count": 55,
   "id": "62054c57",
   "metadata": {},
   "outputs": [
    {
     "name": "stdout",
     "output_type": "stream",
     "text": [
      "['banana', 'cherry', 45, 'tomato', 'potato', 'onion', 'bringle']\n"
     ]
    }
   ],
   "source": [
    "thislist.remove(\"apple\")\n",
    "print(thislist)"
   ]
  },
  {
   "cell_type": "code",
   "execution_count": 56,
   "id": "da61f3b8",
   "metadata": {},
   "outputs": [
    {
     "name": "stdout",
     "output_type": "stream",
     "text": [
      "['banana', 'cherry', 45, 'tomato', 'potato', 'bringle']\n"
     ]
    }
   ],
   "source": [
    "del thislist[5]\n",
    "print(thislist)"
   ]
  },
  {
   "cell_type": "code",
   "execution_count": 57,
   "id": "f9837095",
   "metadata": {},
   "outputs": [
    {
     "name": "stdout",
     "output_type": "stream",
     "text": [
      "[]\n"
     ]
    }
   ],
   "source": [
    "thislist.clear()\n",
    "print(thislist)"
   ]
  },
  {
   "cell_type": "code",
   "execution_count": 58,
   "id": "a70d4356",
   "metadata": {},
   "outputs": [
    {
     "name": "stdout",
     "output_type": "stream",
     "text": [
      "('tomato', 'potato', 'onion', 'bringle')\n"
     ]
    }
   ],
   "source": [
    "print(veg)"
   ]
  },
  {
   "cell_type": "code",
   "execution_count": 59,
   "id": "17696336",
   "metadata": {},
   "outputs": [
    {
     "name": "stdout",
     "output_type": "stream",
     "text": [
      "['cherry', 'banana', 'apple']\n"
     ]
    }
   ],
   "source": [
    "\n",
    "thislist = [\"apple\", \"banana\", \"cherry\"]\n",
    "thislist.reverse()\n",
    "print(thislist)"
   ]
  },
  {
   "cell_type": "code",
   "execution_count": 60,
   "id": "935cb9b0",
   "metadata": {},
   "outputs": [
    {
     "name": "stdout",
     "output_type": "stream",
     "text": [
      "['apple', 'banana', 'cherry']\n"
     ]
    }
   ],
   "source": [
    "thislist.sort()\n",
    "print(thislist)"
   ]
  },
  {
   "cell_type": "code",
   "execution_count": 61,
   "id": "36223410",
   "metadata": {},
   "outputs": [
    {
     "name": "stdout",
     "output_type": "stream",
     "text": [
      "['apple', 'banana', 'cherry']\n"
     ]
    }
   ],
   "source": [
    "b=thislist.copy()\n",
    "print(b)"
   ]
  },
  {
   "cell_type": "code",
   "execution_count": null,
   "id": "c453e071",
   "metadata": {},
   "outputs": [],
   "source": []
  },
  {
   "cell_type": "markdown",
   "id": "7c228e51",
   "metadata": {},
   "source": [
    "# tuple\n"
   ]
  },
  {
   "cell_type": "code",
   "execution_count": 62,
   "id": "c442617c",
   "metadata": {},
   "outputs": [
    {
     "name": "stdout",
     "output_type": "stream",
     "text": [
      "('circlr', 'triangle', 'square', 'line')\n"
     ]
    }
   ],
   "source": [
    "a=shape\n",
    "print(a)"
   ]
  },
  {
   "cell_type": "code",
   "execution_count": 63,
   "id": "4eb8a825",
   "metadata": {},
   "outputs": [
    {
     "data": {
      "text/plain": [
       "tuple"
      ]
     },
     "execution_count": 63,
     "metadata": {},
     "output_type": "execute_result"
    }
   ],
   "source": [
    "type(a)"
   ]
  },
  {
   "cell_type": "code",
   "execution_count": 64,
   "id": "bf549f58",
   "metadata": {},
   "outputs": [
    {
     "data": {
      "text/plain": [
       "'circlr'"
      ]
     },
     "execution_count": 64,
     "metadata": {},
     "output_type": "execute_result"
    }
   ],
   "source": [
    "a[0]"
   ]
  },
  {
   "cell_type": "code",
   "execution_count": 65,
   "id": "d66cf60e",
   "metadata": {},
   "outputs": [
    {
     "data": {
      "text/plain": [
       "('circlr', 'triangle', 'square')"
      ]
     },
     "execution_count": 65,
     "metadata": {},
     "output_type": "execute_result"
    }
   ],
   "source": [
    "a[:-1]"
   ]
  },
  {
   "cell_type": "code",
   "execution_count": 66,
   "id": "860bf8df",
   "metadata": {},
   "outputs": [
    {
     "data": {
      "text/plain": [
       "('line', 'square', 'triangle', 'circlr')"
      ]
     },
     "execution_count": 66,
     "metadata": {},
     "output_type": "execute_result"
    }
   ],
   "source": [
    "a[::-1]"
   ]
  },
  {
   "cell_type": "code",
   "execution_count": 67,
   "id": "5abc2485",
   "metadata": {},
   "outputs": [
    {
     "data": {
      "text/plain": [
       "4"
      ]
     },
     "execution_count": 67,
     "metadata": {},
     "output_type": "execute_result"
    }
   ],
   "source": [
    "len(a)"
   ]
  },
  {
   "cell_type": "code",
   "execution_count": 68,
   "id": "71408dee",
   "metadata": {},
   "outputs": [
    {
     "name": "stdout",
     "output_type": "stream",
     "text": [
      "('circlr', 'triangle', 'square', 'line')\n"
     ]
    }
   ],
   "source": [
    "print(a)"
   ]
  },
  {
   "cell_type": "code",
   "execution_count": 69,
   "id": "4582b28f",
   "metadata": {},
   "outputs": [
    {
     "name": "stdout",
     "output_type": "stream",
     "text": [
      "('circlr', 'oat', 'nutition', 'line')\n"
     ]
    }
   ],
   "source": [
    "a=list(a)\n",
    "a[1:3]=(\"oat\",\"nutition\")\n",
    "a=tuple(a)\n",
    "print(a)"
   ]
  },
  {
   "cell_type": "code",
   "execution_count": 70,
   "id": "39589639",
   "metadata": {},
   "outputs": [
    {
     "name": "stdout",
     "output_type": "stream",
     "text": [
      "('circlr', 'oat', 'nutition', 'line', 48754)\n"
     ]
    }
   ],
   "source": [
    "a=list(a)\n",
    "a.append(48754)\n",
    "a=tuple(a)\n",
    "print(a)"
   ]
  },
  {
   "cell_type": "code",
   "execution_count": 71,
   "id": "e96bc5e6",
   "metadata": {},
   "outputs": [
    {
     "name": "stdout",
     "output_type": "stream",
     "text": [
      "('circlr', 'oat', 'orio', 'nutition', 'line', 48754)\n"
     ]
    }
   ],
   "source": [
    "a=list(a)\n",
    "a.insert(2,\"orio\")\n",
    "a=tuple(a)\n",
    "print(a)"
   ]
  },
  {
   "cell_type": "code",
   "execution_count": 72,
   "id": "64e58c3a",
   "metadata": {},
   "outputs": [
    {
     "name": "stdout",
     "output_type": "stream",
     "text": [
      "('circlr', 'oat', 'orio', 'nutition', 'line', 48754, 'mango', 'banana', 'strawberry', 'grapes')\n"
     ]
    }
   ],
   "source": [
    "b=fruits\n",
    "a=list(a)\n",
    "a.extend(b)\n",
    "a=tuple(a)\n",
    "print(a)"
   ]
  },
  {
   "cell_type": "code",
   "execution_count": 73,
   "id": "ddfaf357",
   "metadata": {},
   "outputs": [
    {
     "name": "stdout",
     "output_type": "stream",
     "text": [
      "('oat', 'orio', 'nutition', 'line', 48754, 'mango', 'banana', 'strawberry', 'grapes')\n"
     ]
    }
   ],
   "source": [
    "a=list(a)\n",
    "a.remove(\"circlr\")\n",
    "a=tuple(a)\n",
    "print(a)"
   ]
  },
  {
   "cell_type": "code",
   "execution_count": 74,
   "id": "cd3f15d0",
   "metadata": {},
   "outputs": [
    {
     "name": "stdout",
     "output_type": "stream",
     "text": [
      "('oat', 'orio', 'nutition', 48754, 'mango', 'banana', 'strawberry', 'grapes')\n"
     ]
    }
   ],
   "source": [
    "a=list(a)\n",
    "a.pop(3)\n",
    "a=tuple(a)\n",
    "print(a)"
   ]
  },
  {
   "cell_type": "code",
   "execution_count": 75,
   "id": "831448dc",
   "metadata": {},
   "outputs": [
    {
     "name": "stdout",
     "output_type": "stream",
     "text": [
      "('oat', 'orio', 48754, 'mango', 'banana', 'strawberry', 'grapes')\n"
     ]
    }
   ],
   "source": [
    "a=list(a)\n",
    "del a[2]\n",
    "a=tuple(a)\n",
    "print(a)"
   ]
  },
  {
   "cell_type": "code",
   "execution_count": 76,
   "id": "6a9eef9c",
   "metadata": {},
   "outputs": [
    {
     "name": "stdout",
     "output_type": "stream",
     "text": [
      "()\n"
     ]
    }
   ],
   "source": [
    "a=list(a)\n",
    "a.clear()\n",
    "a=tuple(a)\n",
    "print(a)"
   ]
  },
  {
   "cell_type": "code",
   "execution_count": 77,
   "id": "f0bef1d3",
   "metadata": {},
   "outputs": [
    {
     "data": {
      "text/plain": [
       "('dear', 'friend', 'hello', 'ok', 45, 78, 63, 85)"
      ]
     },
     "execution_count": 77,
     "metadata": {},
     "output_type": "execute_result"
    }
   ],
   "source": [
    "t1= (\"dear\",\"friend\",\"hello\",\"ok\")\n",
    "t2= (45,78,63,85)\n",
    "t1 + t2 "
   ]
  },
  {
   "cell_type": "code",
   "execution_count": null,
   "id": "0e2b4986",
   "metadata": {},
   "outputs": [],
   "source": []
  },
  {
   "cell_type": "markdown",
   "id": "9c00e90c",
   "metadata": {},
   "source": [
    "## set"
   ]
  },
  {
   "cell_type": "code",
   "execution_count": 78,
   "id": "c9538b01",
   "metadata": {},
   "outputs": [
    {
     "name": "stdout",
     "output_type": "stream",
     "text": [
      "{52, 'papaiyaaa', 8, 41, 56, 45, 63}\n"
     ]
    }
   ],
   "source": [
    "x= {45,8,56,41,63,52}\n",
    "x.add(\"papaiyaaa\")\n",
    "print(x)"
   ]
  },
  {
   "cell_type": "code",
   "execution_count": 79,
   "id": "3c75674d",
   "metadata": {},
   "outputs": [
    {
     "name": "stdout",
     "output_type": "stream",
     "text": [
      "{'triangle', 8, 'square', 'papaiyaaa', 41, 'line', 45, 52, 'circlr', 56, 63}\n"
     ]
    }
   ],
   "source": [
    "y=shape\n",
    "x.update(y)\n",
    "print(x)"
   ]
  },
  {
   "cell_type": "code",
   "execution_count": 80,
   "id": "47299c08",
   "metadata": {},
   "outputs": [
    {
     "name": "stdout",
     "output_type": "stream",
     "text": [
      "('tomato', 'potato', 'onion', 'bringle')\n",
      "{'triangle', 'onion', 'bringle', 8, 41, 'line', 45, 'square', 52, 'circlr', 'tomato', 'papaiyaaa', 56, 'potato', 63}\n"
     ]
    }
   ],
   "source": [
    "z=veg\n",
    "print(z)\n",
    "y=x.union(z)\n",
    "print(y)"
   ]
  },
  {
   "cell_type": "code",
   "execution_count": 81,
   "id": "49353858",
   "metadata": {},
   "outputs": [
    {
     "name": "stdout",
     "output_type": "stream",
     "text": [
      "{'triangle', 8, 'square', 'papaiyaaa', 41, 'line', 45, 52, 'circlr', 56, 63}\n"
     ]
    }
   ],
   "source": [
    "print(x)"
   ]
  },
  {
   "cell_type": "code",
   "execution_count": 82,
   "id": "bf739855",
   "metadata": {},
   "outputs": [
    {
     "name": "stdout",
     "output_type": "stream",
     "text": [
      "{'triangle', 8, 'papaiyaaa', 41, 'line', 45, 52, 'circlr', 56, 63}\n"
     ]
    }
   ],
   "source": [
    "x.discard(\"square\")\n",
    "print(x)"
   ]
  },
  {
   "cell_type": "code",
   "execution_count": 83,
   "id": "2308ae92",
   "metadata": {},
   "outputs": [
    {
     "name": "stdout",
     "output_type": "stream",
     "text": [
      "{8, 'papaiyaaa', 41, 'line', 45, 52, 'circlr', 56, 63}\n"
     ]
    }
   ],
   "source": [
    "x.pop()\n",
    "print(x)"
   ]
  },
  {
   "cell_type": "code",
   "execution_count": null,
   "id": "7606f363",
   "metadata": {},
   "outputs": [],
   "source": []
  },
  {
   "cell_type": "markdown",
   "id": "527d69f2",
   "metadata": {},
   "source": [
    "## dictionary"
   ]
  },
  {
   "cell_type": "code",
   "execution_count": 84,
   "id": "5967fcb0",
   "metadata": {},
   "outputs": [
    {
     "name": "stdout",
     "output_type": "stream",
     "text": [
      "{'brand': 'Ford', 'model': 'Mustang', 'year': 1964}\n"
     ]
    }
   ],
   "source": [
    "c= {\n",
    "  \"brand\": \"Ford\",\n",
    "  \"model\": \"Mustang\",\n",
    "  \"year\": 1964\n",
    "}\n",
    "print(c)"
   ]
  },
  {
   "cell_type": "code",
   "execution_count": 85,
   "id": "d0b88c8c",
   "metadata": {},
   "outputs": [
    {
     "name": "stdout",
     "output_type": "stream",
     "text": [
      "Mustang\n"
     ]
    }
   ],
   "source": [
    "print(c[\"model\"])"
   ]
  },
  {
   "cell_type": "code",
   "execution_count": 86,
   "id": "582a89d4",
   "metadata": {},
   "outputs": [
    {
     "name": "stdout",
     "output_type": "stream",
     "text": [
      "{'brand': 'Ford', 'model': 'Mustang', 'year': 2018}\n"
     ]
    }
   ],
   "source": [
    "c[\"year\"]=2018\n",
    "print(c)"
   ]
  },
  {
   "cell_type": "code",
   "execution_count": 87,
   "id": "52211463",
   "metadata": {},
   "outputs": [
    {
     "name": "stdout",
     "output_type": "stream",
     "text": [
      "{'brand': 'Ford', 'model': 'Mustang', 'year': 2018, 'color': 'red'}\n"
     ]
    }
   ],
   "source": [
    "c[\"color\"]=\"red\"\n",
    "print(c)"
   ]
  },
  {
   "cell_type": "code",
   "execution_count": 88,
   "id": "18d09a7f",
   "metadata": {},
   "outputs": [
    {
     "name": "stdout",
     "output_type": "stream",
     "text": [
      "{'brand': 'Ford', 'model': 'rowen', 'year': 2018, 'color': 'red'}\n"
     ]
    }
   ],
   "source": [
    "c.update({\"model\":\"rowen\"})\n",
    "print(c)"
   ]
  },
  {
   "cell_type": "code",
   "execution_count": 89,
   "id": "b74f1718",
   "metadata": {},
   "outputs": [
    {
     "name": "stdout",
     "output_type": "stream",
     "text": [
      "{'brand': 'Ford', 'model': 'rowen', 'year': 2018, 'color': 'red', 'sell': 2012}\n"
     ]
    }
   ],
   "source": [
    "c.update({\"sell\":2012})\n",
    "print(c)"
   ]
  },
  {
   "cell_type": "code",
   "execution_count": 90,
   "id": "2a23d10a",
   "metadata": {},
   "outputs": [
    {
     "data": {
      "text/plain": [
       "'Ford'"
      ]
     },
     "execution_count": 90,
     "metadata": {},
     "output_type": "execute_result"
    }
   ],
   "source": [
    "c.pop(\"brand\")"
   ]
  },
  {
   "cell_type": "code",
   "execution_count": 91,
   "id": "99bdb034",
   "metadata": {},
   "outputs": [
    {
     "name": "stdout",
     "output_type": "stream",
     "text": [
      "{'model': 'rowen', 'year': 2018, 'color': 'red', 'sell': 2012}\n"
     ]
    }
   ],
   "source": [
    "print(c)"
   ]
  },
  {
   "cell_type": "code",
   "execution_count": 92,
   "id": "344c30ab",
   "metadata": {},
   "outputs": [
    {
     "name": "stdout",
     "output_type": "stream",
     "text": [
      "{'model': 'rowen', 'year': 2018, 'color': 'red'}\n"
     ]
    }
   ],
   "source": [
    "c.popitem()\n",
    "print(c)"
   ]
  },
  {
   "cell_type": "code",
   "execution_count": 93,
   "id": "d77999ae",
   "metadata": {},
   "outputs": [
    {
     "name": "stdout",
     "output_type": "stream",
     "text": [
      "{'model': 'rowen', 'year': 2018, 'color': 'red'}\n"
     ]
    }
   ],
   "source": [
    "y=c.copy()\n",
    "print(y)"
   ]
  },
  {
   "cell_type": "code",
   "execution_count": 94,
   "id": "4cf7a620",
   "metadata": {},
   "outputs": [
    {
     "name": "stdout",
     "output_type": "stream",
     "text": [
      "{'model': 'rowen', 'year': 2018, 'color': 'red'}\n"
     ]
    }
   ],
   "source": [
    "x=dict(c)\n",
    "print(x)"
   ]
  },
  {
   "cell_type": "code",
   "execution_count": null,
   "id": "ac7f8d3a",
   "metadata": {},
   "outputs": [],
   "source": []
  },
  {
   "cell_type": "markdown",
   "id": "9508a7b2",
   "metadata": {},
   "source": [
    "## practice"
   ]
  },
  {
   "cell_type": "code",
   "execution_count": 95,
   "id": "b20da930",
   "metadata": {},
   "outputs": [
    {
     "name": "stdout",
     "output_type": "stream",
     "text": [
      "['horse', 'tiger', 'lion', 'leopard', 'lion']\n",
      "[45, 56, 89, 23, 41, 75]\n",
      "5\n",
      "6\n"
     ]
    }
   ],
   "source": [
    "l1=[\"horse\",\"tiger\",\"lion\",\"leopard\",\"lion\"]\n",
    "l2=[45,56,89,23,41,75]\n",
    "print(l1)\n",
    "print(l2)\n",
    "print(len(l1))\n",
    "print(len(l2))"
   ]
  },
  {
   "cell_type": "code",
   "execution_count": 96,
   "id": "c5cd00e2",
   "metadata": {},
   "outputs": [
    {
     "data": {
      "text/plain": [
       "['lion', 'leopard', 'lion', 'tiger', 'horse']"
      ]
     },
     "execution_count": 96,
     "metadata": {},
     "output_type": "execute_result"
    }
   ],
   "source": [
    "l1[::-1]"
   ]
  },
  {
   "cell_type": "code",
   "execution_count": 97,
   "id": "419dd277",
   "metadata": {},
   "outputs": [
    {
     "data": {
      "text/plain": [
       "[75, 41, 23, 89, 56, 45]"
      ]
     },
     "execution_count": 97,
     "metadata": {},
     "output_type": "execute_result"
    }
   ],
   "source": [
    "l2[::-1]"
   ]
  },
  {
   "cell_type": "code",
   "execution_count": 98,
   "id": "8961cfb7",
   "metadata": {},
   "outputs": [
    {
     "name": "stdout",
     "output_type": "stream",
     "text": [
      "['lion', 'leopard', 'lion', 'tiger', 'horse']\n"
     ]
    }
   ],
   "source": [
    "l1.reverse()\n",
    "print(l1)"
   ]
  },
  {
   "cell_type": "code",
   "execution_count": 99,
   "id": "72387167",
   "metadata": {},
   "outputs": [
    {
     "data": {
      "text/plain": [
       "['lion', 'tiger', 'horse']"
      ]
     },
     "execution_count": 99,
     "metadata": {},
     "output_type": "execute_result"
    }
   ],
   "source": [
    "l1[2:5]"
   ]
  },
  {
   "cell_type": "code",
   "execution_count": 100,
   "id": "1649a06f",
   "metadata": {},
   "outputs": [
    {
     "data": {
      "text/plain": [
       "[56, 89, 23]"
      ]
     },
     "execution_count": 100,
     "metadata": {},
     "output_type": "execute_result"
    }
   ],
   "source": [
    "l2[1:4]"
   ]
  },
  {
   "cell_type": "code",
   "execution_count": 101,
   "id": "be5650a4",
   "metadata": {},
   "outputs": [
    {
     "name": "stdout",
     "output_type": "stream",
     "text": [
      "['lion', 'hjxgyuf', 'lion', 'tiger', 'horse']\n"
     ]
    }
   ],
   "source": [
    "l1[1]=\"hjxgyuf\"\n",
    "print(l1)"
   ]
  },
  {
   "cell_type": "code",
   "execution_count": 102,
   "id": "bdb2aff8",
   "metadata": {},
   "outputs": [
    {
     "name": "stdout",
     "output_type": "stream",
     "text": [
      "['lion', 'hjxgyuf', 'lion', 'tiger', 'horse', 'mango']\n"
     ]
    }
   ],
   "source": [
    "l1.append(\"mango\")\n",
    "print(l1)"
   ]
  },
  {
   "cell_type": "code",
   "execution_count": 103,
   "id": "d6edbfe0",
   "metadata": {},
   "outputs": [
    {
     "name": "stdout",
     "output_type": "stream",
     "text": [
      "['lion', 'hjxgyuf', 'hifen', 'lion', 'tiger', 'horse', 'mango']\n"
     ]
    }
   ],
   "source": [
    "l1.insert(2,\"hifen\")\n",
    "print(l1)"
   ]
  },
  {
   "cell_type": "code",
   "execution_count": 104,
   "id": "98cfe12c",
   "metadata": {},
   "outputs": [
    {
     "name": "stdout",
     "output_type": "stream",
     "text": [
      "['lion', 'hjxgyuf', 'hifen', 'lion', 'tiger', 'horse', 'mango', 45, 56, 89, 23, 41, 75]\n"
     ]
    }
   ],
   "source": [
    "l1.extend(l2)\n",
    "print(l1)"
   ]
  },
  {
   "cell_type": "code",
   "execution_count": 105,
   "id": "4dcbe29a",
   "metadata": {},
   "outputs": [
    {
     "name": "stdout",
     "output_type": "stream",
     "text": [
      "['hjxgyuf', 'hifen', 'lion', 'tiger', 'horse', 'mango', 45, 56, 89, 23, 41, 75]\n"
     ]
    }
   ],
   "source": [
    "l1.remove(\"lion\")\n",
    "print(l1)"
   ]
  },
  {
   "cell_type": "code",
   "execution_count": 106,
   "id": "1de2334f",
   "metadata": {},
   "outputs": [
    {
     "data": {
      "text/plain": [
       "'tiger'"
      ]
     },
     "execution_count": 106,
     "metadata": {},
     "output_type": "execute_result"
    }
   ],
   "source": [
    "l1.pop(3)"
   ]
  },
  {
   "cell_type": "code",
   "execution_count": 107,
   "id": "ded20a02",
   "metadata": {},
   "outputs": [
    {
     "name": "stdout",
     "output_type": "stream",
     "text": [
      "['hjxgyuf', 'hifen', 'lion', 'horse', 'mango', 45, 56, 89, 23, 41, 75]\n"
     ]
    }
   ],
   "source": [
    "print(l1)"
   ]
  },
  {
   "cell_type": "code",
   "execution_count": 108,
   "id": "015f9c4f",
   "metadata": {},
   "outputs": [
    {
     "name": "stdout",
     "output_type": "stream",
     "text": [
      "['hjxgyuf', 'hifen', 'horse', 'mango', 45, 56, 89, 23, 41, 75]\n"
     ]
    }
   ],
   "source": [
    "del l1[2]\n",
    "print(l1)"
   ]
  },
  {
   "cell_type": "code",
   "execution_count": 109,
   "id": "96f018d4",
   "metadata": {},
   "outputs": [
    {
     "name": "stdout",
     "output_type": "stream",
     "text": [
      "[]\n"
     ]
    }
   ],
   "source": [
    "l1.clear()\n",
    "print(l1)"
   ]
  },
  {
   "cell_type": "code",
   "execution_count": 110,
   "id": "2761a4ec",
   "metadata": {},
   "outputs": [
    {
     "name": "stdout",
     "output_type": "stream",
     "text": [
      "[23, 41, 45, 56, 75, 89]\n"
     ]
    }
   ],
   "source": [
    "l2.sort()\n",
    "print(l2)"
   ]
  },
  {
   "cell_type": "code",
   "execution_count": 111,
   "id": "f3686992",
   "metadata": {},
   "outputs": [
    {
     "name": "stdout",
     "output_type": "stream",
     "text": [
      "[23, 41, 45, 56, 75, 89]\n"
     ]
    }
   ],
   "source": [
    "l3=l1+l2\n",
    "print(l3)"
   ]
  },
  {
   "cell_type": "code",
   "execution_count": 112,
   "id": "9e74bbed",
   "metadata": {},
   "outputs": [
    {
     "name": "stdout",
     "output_type": "stream",
     "text": [
      "['mango', 'guavava', 'cherry', 'kiwi', 45, 78.96, 85]\n"
     ]
    }
   ],
   "source": [
    "l1=[\"mango\",\"guavava\",\"cherry\",\"kiwi\"]\n",
    "l2=[45,78.96,85]\n",
    "l3=l1+l2\n",
    "print(l3)"
   ]
  },
  {
   "cell_type": "code",
   "execution_count": 113,
   "id": "0eaf0518",
   "metadata": {},
   "outputs": [
    {
     "data": {
      "text/plain": [
       "5"
      ]
     },
     "execution_count": 113,
     "metadata": {},
     "output_type": "execute_result"
    }
   ],
   "source": [
    "t1=(\"color\",\"shape\",\"veg\",\"fruit\",\"birds\")\n",
    "len(t1)"
   ]
  },
  {
   "cell_type": "code",
   "execution_count": 114,
   "id": "e59489a9",
   "metadata": {},
   "outputs": [
    {
     "data": {
      "text/plain": [
       "'birds'"
      ]
     },
     "execution_count": 114,
     "metadata": {},
     "output_type": "execute_result"
    }
   ],
   "source": [
    "t1[-1]"
   ]
  },
  {
   "cell_type": "code",
   "execution_count": 115,
   "id": "754dac1e",
   "metadata": {},
   "outputs": [
    {
     "data": {
      "text/plain": [
       "('shape', 'veg', 'fruit')"
      ]
     },
     "execution_count": 115,
     "metadata": {},
     "output_type": "execute_result"
    }
   ],
   "source": [
    "t1[1:4]"
   ]
  },
  {
   "cell_type": "code",
   "execution_count": 116,
   "id": "b71c1285",
   "metadata": {},
   "outputs": [
    {
     "name": "stdout",
     "output_type": "stream",
     "text": [
      "('color', 'vfytytugiu', 'veg', 'fruit', 'birds')\n"
     ]
    }
   ],
   "source": [
    "t1=list(t1)\n",
    "t1[1]=\"vfytytugiu\"\n",
    "t1=tuple(t1)\n",
    "print(t1)"
   ]
  },
  {
   "cell_type": "code",
   "execution_count": 117,
   "id": "b7722381",
   "metadata": {},
   "outputs": [
    {
     "name": "stdout",
     "output_type": "stream",
     "text": [
      "('dog', 'cat', 'horse')\n"
     ]
    }
   ],
   "source": [
    "t2=(\"dog\",\"cat\",\"horse\",\"pet\")\n",
    "t2=list(t2)\n",
    "t2.remove(\"pet\")\n",
    "t2=tuple(t2)\n",
    "print(t2)"
   ]
  },
  {
   "cell_type": "code",
   "execution_count": 118,
   "id": "c68d53ea",
   "metadata": {},
   "outputs": [
    {
     "name": "stdout",
     "output_type": "stream",
     "text": [
      "('color', 'vfytytugiu', 'veg', 'fruit', 'birds', 'dog', 'cat', 'horse')\n"
     ]
    }
   ],
   "source": [
    "t3=t1+t2\n",
    "print(t3)"
   ]
  },
  {
   "cell_type": "code",
   "execution_count": 119,
   "id": "f409b079",
   "metadata": {},
   "outputs": [
    {
     "name": "stdout",
     "output_type": "stream",
     "text": [
      "{'hi', 'what', 'why', 'hello', 4598}\n"
     ]
    }
   ],
   "source": [
    "s1={\"hi\",\"hello\",\"what\",\"why\",}\n",
    "s1.add(4598)\n",
    "print(s1)"
   ]
  },
  {
   "cell_type": "code",
   "execution_count": 120,
   "id": "04cf790a",
   "metadata": {},
   "outputs": [
    {
     "name": "stdout",
     "output_type": "stream",
     "text": [
      "{'hi', 'what', 'hello', 4598}\n"
     ]
    }
   ],
   "source": [
    "s1.discard(\"why\")\n",
    "print(s1)"
   ]
  },
  {
   "cell_type": "code",
   "execution_count": 121,
   "id": "e7d5ab5b",
   "metadata": {},
   "outputs": [
    {
     "name": "stdout",
     "output_type": "stream",
     "text": [
      "{96, 'yellow', 'white', 'green', 45, 78, 'red', 63}\n"
     ]
    }
   ],
   "source": [
    "s1={45,78,96,63,45}\n",
    "s2={\"red\",\"yellow\",\"green\",\"white\"}\n",
    "s3=s1.union(s2)\n",
    "print(s3)"
   ]
  },
  {
   "cell_type": "code",
   "execution_count": 122,
   "id": "26a797a0",
   "metadata": {},
   "outputs": [
    {
     "name": "stdout",
     "output_type": "stream",
     "text": [
      "{96, 'yellow', 'white', 'green', 45, 78, 'red', 63}\n"
     ]
    }
   ],
   "source": [
    "s1.update(s2)\n",
    "print(s1)"
   ]
  },
  {
   "cell_type": "code",
   "execution_count": 123,
   "id": "c1e49cff",
   "metadata": {},
   "outputs": [
    {
     "data": {
      "text/plain": [
       "96"
      ]
     },
     "execution_count": 123,
     "metadata": {},
     "output_type": "execute_result"
    }
   ],
   "source": [
    "s1.pop()"
   ]
  },
  {
   "cell_type": "code",
   "execution_count": 124,
   "id": "7bb3d57f",
   "metadata": {},
   "outputs": [
    {
     "name": "stdout",
     "output_type": "stream",
     "text": [
      "{'yellow', 'white', 'green', 45, 78, 'red', 63}\n"
     ]
    }
   ],
   "source": [
    "print(s1)"
   ]
  },
  {
   "cell_type": "code",
   "execution_count": 125,
   "id": "2362089d",
   "metadata": {},
   "outputs": [
    {
     "name": "stdout",
     "output_type": "stream",
     "text": [
      "{'name': 'jaydeep', 'age': 25, 'job': 'intern'}\n"
     ]
    }
   ],
   "source": [
    "d1={\n",
    "    \"name\":\"jaydeep\",\n",
    "    \"age\":25,\n",
    "    \"job\":\"intern\"\n",
    "}\n",
    "print(d1)"
   ]
  },
  {
   "cell_type": "code",
   "execution_count": 126,
   "id": "1577730f",
   "metadata": {},
   "outputs": [
    {
     "data": {
      "text/plain": [
       "'jaydeep'"
      ]
     },
     "execution_count": 126,
     "metadata": {},
     "output_type": "execute_result"
    }
   ],
   "source": [
    "d1[\"name\"]"
   ]
  },
  {
   "cell_type": "code",
   "execution_count": 127,
   "id": "3fdf3f7d",
   "metadata": {},
   "outputs": [
    {
     "data": {
      "text/plain": [
       "25"
      ]
     },
     "execution_count": 127,
     "metadata": {},
     "output_type": "execute_result"
    }
   ],
   "source": [
    "d1[\"age\"]"
   ]
  },
  {
   "cell_type": "code",
   "execution_count": 128,
   "id": "0f9f60a2",
   "metadata": {},
   "outputs": [
    {
     "data": {
      "text/plain": [
       "'intern'"
      ]
     },
     "execution_count": 128,
     "metadata": {},
     "output_type": "execute_result"
    }
   ],
   "source": [
    "d1[\"job\"]"
   ]
  },
  {
   "cell_type": "code",
   "execution_count": 129,
   "id": "98af7268",
   "metadata": {},
   "outputs": [
    {
     "data": {
      "text/plain": [
       "dict_keys(['name', 'age', 'job'])"
      ]
     },
     "execution_count": 129,
     "metadata": {},
     "output_type": "execute_result"
    }
   ],
   "source": [
    "d1.keys()\n"
   ]
  },
  {
   "cell_type": "code",
   "execution_count": 130,
   "id": "d74ed8f1",
   "metadata": {},
   "outputs": [
    {
     "data": {
      "text/plain": [
       "dict_items([('name', 'jaydeep'), ('age', 25), ('job', 'intern')])"
      ]
     },
     "execution_count": 130,
     "metadata": {},
     "output_type": "execute_result"
    }
   ],
   "source": [
    "d1.items()"
   ]
  },
  {
   "cell_type": "code",
   "execution_count": 131,
   "id": "548a6d40",
   "metadata": {},
   "outputs": [
    {
     "data": {
      "text/plain": [
       "dict_values(['jaydeep', 25, 'intern'])"
      ]
     },
     "execution_count": 131,
     "metadata": {},
     "output_type": "execute_result"
    }
   ],
   "source": [
    "d1.values()"
   ]
  },
  {
   "cell_type": "code",
   "execution_count": 132,
   "id": "588d4657",
   "metadata": {},
   "outputs": [
    {
     "name": "stdout",
     "output_type": "stream",
     "text": [
      "{'name': 'jaydeep', 'age': 20, 'job': 'intern'}\n"
     ]
    }
   ],
   "source": [
    "d1.update({\"age\":20})\n",
    "print(d1)"
   ]
  },
  {
   "cell_type": "code",
   "execution_count": 133,
   "id": "583989f3",
   "metadata": {},
   "outputs": [
    {
     "data": {
      "text/plain": [
       "'jaydeep'"
      ]
     },
     "execution_count": 133,
     "metadata": {},
     "output_type": "execute_result"
    }
   ],
   "source": [
    "d1.pop(\"name\")"
   ]
  },
  {
   "cell_type": "code",
   "execution_count": 134,
   "id": "60938f20",
   "metadata": {},
   "outputs": [
    {
     "name": "stdout",
     "output_type": "stream",
     "text": [
      "{'age': 20, 'job': 'intern'}\n"
     ]
    }
   ],
   "source": [
    "print(d1)"
   ]
  },
  {
   "cell_type": "code",
   "execution_count": 135,
   "id": "a5c63c49",
   "metadata": {},
   "outputs": [
    {
     "name": "stdout",
     "output_type": "stream",
     "text": [
      "{'age': 20, 'job': 'intern'}\n"
     ]
    }
   ],
   "source": [
    "print(d1)"
   ]
  },
  {
   "cell_type": "code",
   "execution_count": 136,
   "id": "8aa189e7",
   "metadata": {},
   "outputs": [
    {
     "name": "stdout",
     "output_type": "stream",
     "text": [
      "{'age': 20, 'job': 'intern'}\n"
     ]
    }
   ],
   "source": [
    "print(d1)"
   ]
  },
  {
   "cell_type": "code",
   "execution_count": null,
   "id": "d23b8b3f",
   "metadata": {},
   "outputs": [],
   "source": []
  },
  {
   "cell_type": "markdown",
   "id": "4674c7df",
   "metadata": {},
   "source": [
    "# condition  &  loop"
   ]
  },
  {
   "cell_type": "code",
   "execution_count": 137,
   "id": "d83c0847",
   "metadata": {},
   "outputs": [
    {
     "name": "stdout",
     "output_type": "stream",
     "text": [
      "a  less than b \n"
     ]
    }
   ],
   "source": [
    "a=45\n",
    "b=78\n",
    "if a>b:\n",
    "    print(\"a  greater than b\")\n",
    "elif a<b:\n",
    "    print(\"a  less than b \")\n",
    "else:\n",
    "    print(\"a equal to b\")"
   ]
  },
  {
   "cell_type": "code",
   "execution_count": 138,
   "id": "c69bc0d4",
   "metadata": {},
   "outputs": [
    {
     "name": "stdout",
     "output_type": "stream",
     "text": [
      "0\n",
      "1\n",
      "2\n",
      "3\n",
      "4\n",
      "5\n",
      "6\n",
      "7\n",
      "8\n",
      "9\n",
      "10\n"
     ]
    }
   ],
   "source": [
    "i=0\n",
    "while i<11:\n",
    "    print(i)\n",
    "    i+=1"
   ]
  },
  {
   "cell_type": "code",
   "execution_count": 22,
   "id": "f02998f5",
   "metadata": {},
   "outputs": [
    {
     "name": "stdout",
     "output_type": "stream",
     "text": [
      "red\n",
      "whitw\n",
      "yellow\n",
      "black\n"
     ]
    }
   ],
   "source": [
    "color=[\"red\",\"whitw\",\"yellow\",\"black\"]\n",
    "for x in color:\n",
    "    print(x)"
   ]
  },
  {
   "cell_type": "code",
   "execution_count": 23,
   "id": "62d5357b",
   "metadata": {},
   "outputs": [
    {
     "name": "stdout",
     "output_type": "stream",
     "text": [
      "red\n",
      "whitw\n",
      "yellow\n"
     ]
    }
   ],
   "source": [
    "for x in color:\n",
    "    print(x)\n",
    "    if x== \"yellow\":\n",
    "        break\n",
    "    "
   ]
  },
  {
   "cell_type": "code",
   "execution_count": 26,
   "id": "81df4b9d",
   "metadata": {},
   "outputs": [],
   "source": [
    "for x in color:\n",
    "    if x==\"yellow\":\n",
    "        break\n",
    "        print(x)"
   ]
  },
  {
   "cell_type": "code",
   "execution_count": null,
   "id": "005aaedd",
   "metadata": {},
   "outputs": [],
   "source": []
  },
  {
   "cell_type": "code",
   "execution_count": 25,
   "id": "2fd04753",
   "metadata": {},
   "outputs": [],
   "source": [
    "for x in color:\n",
    "    if x==\"yellow\":\n",
    "        continue\n",
    "        print(x)"
   ]
  },
  {
   "cell_type": "code",
   "execution_count": 143,
   "id": "e293ecca",
   "metadata": {},
   "outputs": [
    {
     "name": "stdout",
     "output_type": "stream",
     "text": [
      "0\n",
      "1\n",
      "2\n",
      "3\n",
      "4\n",
      "5\n",
      "6\n",
      "7\n",
      "8\n",
      "9\n",
      "10\n",
      "11\n",
      "12\n",
      "13\n",
      "14\n",
      "15\n",
      "16\n",
      "17\n",
      "18\n",
      "19\n",
      "20\n",
      "21\n",
      "22\n",
      "23\n",
      "24\n",
      "25\n",
      "26\n",
      "27\n",
      "28\n",
      "29\n",
      "30\n",
      "31\n",
      "32\n",
      "33\n",
      "34\n",
      "35\n",
      "36\n",
      "37\n",
      "38\n",
      "39\n",
      "40\n",
      "41\n",
      "42\n",
      "43\n",
      "44\n",
      "45\n",
      "46\n",
      "47\n",
      "48\n",
      "49\n",
      "50\n"
     ]
    }
   ],
   "source": [
    "for x in range(51):\n",
    "    print(x)"
   ]
  },
  {
   "cell_type": "code",
   "execution_count": 144,
   "id": "f632d9a3",
   "metadata": {},
   "outputs": [
    {
     "name": "stdout",
     "output_type": "stream",
     "text": [
      "4\n",
      "5\n",
      "6\n",
      "7\n",
      "8\n",
      "9\n",
      "10\n",
      "11\n",
      "12\n",
      "13\n",
      "14\n",
      "15\n",
      "16\n",
      "17\n",
      "18\n",
      "19\n",
      "20\n",
      "21\n",
      "22\n"
     ]
    }
   ],
   "source": [
    "for x in range(4,23):\n",
    "    print(x)"
   ]
  },
  {
   "cell_type": "code",
   "execution_count": 145,
   "id": "95789daf",
   "metadata": {},
   "outputs": [
    {
     "name": "stdout",
     "output_type": "stream",
     "text": [
      "4\n",
      "8\n",
      "12\n",
      "16\n",
      "20\n"
     ]
    }
   ],
   "source": [
    "for x in range(4,23,4):\n",
    "    print(x)"
   ]
  },
  {
   "cell_type": "code",
   "execution_count": 146,
   "id": "7298608c",
   "metadata": {},
   "outputs": [
    {
     "name": "stdout",
     "output_type": "stream",
     "text": [
      "potato circle\n",
      "potato round\n",
      "potato line\n",
      "tomato circle\n",
      "tomato round\n",
      "tomato line\n",
      "onion circle\n",
      "onion round\n",
      "onion line\n",
      "curry circle\n",
      "curry round\n",
      "curry line\n"
     ]
    }
   ],
   "source": [
    "veg=[\"potato\",\"tomato\",\"onion\",\"curry\"]\n",
    "shape=[\"circle\",\"round\",\"line\"]\n",
    "for x in veg:\n",
    "    for y in shape:\n",
    "        print(x,y)"
   ]
  },
  {
   "cell_type": "code",
   "execution_count": 147,
   "id": "ccc7f250",
   "metadata": {},
   "outputs": [
    {
     "name": "stdout",
     "output_type": "stream",
     "text": [
      "red potato\n",
      "red tomato\n",
      "red garlic\n",
      "whitr potato\n",
      "whitr tomato\n",
      "whitr garlic\n",
      "black potato\n",
      "black tomato\n",
      "black garlic\n"
     ]
    }
   ],
   "source": [
    " \n",
    "for x in x1:\n",
    "    for y in y1:\n",
    "        print(x,y)"
   ]
  },
  {
   "cell_type": "code",
   "execution_count": 148,
   "id": "75330a17",
   "metadata": {},
   "outputs": [
    {
     "name": "stdout",
     "output_type": "stream",
     "text": [
      "potato\n",
      "tomato\n",
      "onion\n",
      "curry\n"
     ]
    }
   ],
   "source": [
    "for x in veg:\n",
    "    print(x)"
   ]
  },
  {
   "cell_type": "code",
   "execution_count": 149,
   "id": "78581355",
   "metadata": {},
   "outputs": [
    {
     "name": "stdout",
     "output_type": "stream",
     "text": [
      "20 * 1 = 20\n",
      "20 * 2 = 40\n",
      "20 * 3 = 60\n",
      "20 * 4 = 80\n",
      "20 * 5 = 100\n",
      "20 * 6 = 120\n",
      "20 * 7 = 140\n",
      "20 * 8 = 160\n",
      "20 * 9 = 180\n",
      "20 * 10 = 200\n"
     ]
    }
   ],
   "source": [
    "x= int(20)\n",
    "for i in range(1,11):\n",
    "    print(x,\"*\",i,\"=\",x*i)"
   ]
  },
  {
   "cell_type": "code",
   "execution_count": 150,
   "id": "38688987",
   "metadata": {},
   "outputs": [
    {
     "name": "stdout",
     "output_type": "stream",
     "text": [
      "enter value25\n",
      "25 * 1 = 25\n",
      "25 * 2 = 50\n",
      "25 * 3 = 75\n",
      "25 * 4 = 100\n",
      "25 * 5 = 125\n",
      "25 * 6 = 150\n",
      "25 * 7 = 175\n",
      "25 * 8 = 200\n",
      "25 * 9 = 225\n",
      "25 * 10 = 250\n"
     ]
    }
   ],
   "source": [
    "x=int(input(\"enter value\"))\n",
    "for y in range(1,11):\n",
    "    print(x,\"*\",y,\"=\",y*x)\n",
    "    "
   ]
  },
  {
   "cell_type": "code",
   "execution_count": 151,
   "id": "beb8c4b3",
   "metadata": {},
   "outputs": [
    {
     "name": "stdout",
     "output_type": "stream",
     "text": [
      "\n",
      "* \n",
      "* * \n",
      "* * * \n",
      "* * * * \n",
      "* * * * * \n"
     ]
    }
   ],
   "source": [
    "for x in range(0,6):\n",
    "    for y in range(0,x):\n",
    "        print(\"*\",end=\" \")\n",
    "    print()\n",
    "              "
   ]
  },
  {
   "cell_type": "code",
   "execution_count": 27,
   "id": "c55afc97",
   "metadata": {},
   "outputs": [
    {
     "name": "stdout",
     "output_type": "stream",
     "text": [
      "      \n",
      "     *\n",
      "    **\n",
      "   ***\n",
      "  ****\n",
      " *****\n"
     ]
    }
   ],
   "source": [
    "for x in range(0,6):\n",
    "    for y in range(0,6-x):\n",
    "        print(\" \",end=\"\")\n",
    "    for z in range(0,x):\n",
    "         print(\"*\",end=\"\")\n",
    "    print()\n",
    "              "
   ]
  },
  {
   "cell_type": "code",
   "execution_count": 153,
   "id": "fc97b64f",
   "metadata": {},
   "outputs": [
    {
     "name": "stdout",
     "output_type": "stream",
     "text": [
      "******\n",
      " *****\n",
      "  ****\n",
      "   ***\n",
      "    **\n",
      "     *\n"
     ]
    }
   ],
   "source": [
    "for x in range(0,6):\n",
    "    for y in range(0,x):\n",
    "        print(\" \",end=\"\")\n",
    "    for y in range(0,6-x):\n",
    "        print(\"*\",end=\"\")\n",
    "    print()\n",
    "              "
   ]
  },
  {
   "cell_type": "code",
   "execution_count": 154,
   "id": "6f9f0943",
   "metadata": {},
   "outputs": [
    {
     "name": "stdout",
     "output_type": "stream",
     "text": [
      "\n",
      "*\n",
      "**\n",
      "***\n",
      "****\n",
      "*****\n"
     ]
    }
   ],
   "source": [
    "for x in range(0,6):\n",
    "    for y in range(0,x):\n",
    "        print(\"*\",end=\"\")\n",
    "    print()\n",
    "              "
   ]
  },
  {
   "cell_type": "code",
   "execution_count": 155,
   "id": "9a25b0b0",
   "metadata": {},
   "outputs": [
    {
     "name": "stdout",
     "output_type": "stream",
     "text": [
      "0\n",
      "1\n",
      "2\n",
      "3\n",
      "4\n",
      "5\n"
     ]
    }
   ],
   "source": [
    "i=0\n",
    "while i<6:\n",
    "    print(i)\n",
    "    i+=1"
   ]
  },
  {
   "cell_type": "code",
   "execution_count": 156,
   "id": "e68d4765",
   "metadata": {},
   "outputs": [
    {
     "name": "stdout",
     "output_type": "stream",
     "text": [
      "0\n",
      "1\n",
      "2\n",
      "3\n",
      "4\n"
     ]
    }
   ],
   "source": [
    "i=0\n",
    "while i<6:\n",
    "    print(i)\n",
    "    if i==4:\n",
    "        break\n",
    "    i+=1"
   ]
  },
  {
   "cell_type": "code",
   "execution_count": 157,
   "id": "0aec03c8",
   "metadata": {},
   "outputs": [
    {
     "name": "stdout",
     "output_type": "stream",
     "text": [
      "0\n",
      "1\n",
      "2\n",
      "3\n"
     ]
    }
   ],
   "source": [
    "i=0\n",
    "while i<6:\n",
    "    if i==4:\n",
    "        break\n",
    "    print(i)\n",
    "    i+=1"
   ]
  },
  {
   "cell_type": "code",
   "execution_count": 158,
   "id": "93432447",
   "metadata": {},
   "outputs": [
    {
     "name": "stdout",
     "output_type": "stream",
     "text": [
      "0\n",
      "20\n",
      "40\n",
      "60\n",
      "80\n",
      "100\n",
      "120\n",
      "140\n",
      "160\n",
      "180\n",
      "200\n"
     ]
    }
   ],
   "source": [
    "i=0\n",
    "while i<11:\n",
    "    print(i*20)\n",
    "    i+=1"
   ]
  },
  {
   "cell_type": "code",
   "execution_count": 159,
   "id": "dbf6a813",
   "metadata": {},
   "outputs": [
    {
     "name": "stdout",
     "output_type": "stream",
     "text": [
      "0\n",
      "1\n",
      "2\n",
      "3\n"
     ]
    }
   ],
   "source": [
    "i=0\n",
    "while i<6:\n",
    "    if i==4:\n",
    "        break\n",
    "    print(i)\n",
    "    i+=1"
   ]
  },
  {
   "cell_type": "code",
   "execution_count": null,
   "id": "9d7dd9bf",
   "metadata": {},
   "outputs": [
    {
     "name": "stdout",
     "output_type": "stream",
     "text": [
      "0\n",
      "1\n",
      "2\n",
      "3\n"
     ]
    }
   ],
   "source": [
    "i=0\n",
    "while i<7:\n",
    "    if i==4:\n",
    "        continue\n",
    "    print(i)\n",
    "    i+=1"
   ]
  },
  {
   "cell_type": "code",
   "execution_count": 1,
   "id": "9f1b9ea1",
   "metadata": {},
   "outputs": [
    {
     "name": "stdout",
     "output_type": "stream",
     "text": [
      "1\n",
      "2\n",
      "3\n",
      "5\n",
      "6\n",
      "7\n"
     ]
    }
   ],
   "source": [
    "i=0\n",
    "while i<7:\n",
    "    i+=1\n",
    "    if i==4:\n",
    "        continue\n",
    "    print(i)\n",
    "    "
   ]
  },
  {
   "cell_type": "code",
   "execution_count": 2,
   "id": "68a182e1",
   "metadata": {},
   "outputs": [
    {
     "name": "stdout",
     "output_type": "stream",
     "text": [
      "[1, 2, 3, [3, 4, 5, [5, 6, 7, [8, 9, 0]]]]\n",
      "9\n",
      "9\n"
     ]
    }
   ],
   "source": [
    "f1=[1,2,3,[3,4,5,[5,6,7,[8,9,0]]]]\n",
    "print(f1)\n",
    "print(f1[3][3][3][1])\n",
    "print(f1[-1][-1][-1][-2])\n"
   ]
  },
  {
   "cell_type": "code",
   "execution_count": null,
   "id": "88ad92fb",
   "metadata": {},
   "outputs": [],
   "source": []
  },
  {
   "cell_type": "markdown",
   "id": "a20e5b03",
   "metadata": {},
   "source": [
    "# json"
   ]
  },
  {
   "cell_type": "code",
   "execution_count": 3,
   "id": "01da03dc",
   "metadata": {},
   "outputs": [
    {
     "name": "stdout",
     "output_type": "stream",
     "text": [
      "jaydeep\n"
     ]
    }
   ],
   "source": [
    "import json \n",
    "x='{\"name\":\"jaydeep\",\"age\":25,\"city\":\"ahmedabad\"}'\n",
    "y=json.loads(x)\n",
    "print(y[\"name\"])\n"
   ]
  },
  {
   "cell_type": "code",
   "execution_count": 4,
   "id": "b35566eb",
   "metadata": {},
   "outputs": [
    {
     "name": "stdout",
     "output_type": "stream",
     "text": [
      "{\"car\": \"audi\", \"color\": \"red\", \"model\": \"tytu\"}\n"
     ]
    },
    {
     "data": {
      "text/plain": [
       "str"
      ]
     },
     "execution_count": 4,
     "metadata": {},
     "output_type": "execute_result"
    }
   ],
   "source": [
    "import json as js\n",
    "x={\"car\":\"audi\",\"color\":\"red\",\"model\":\"tytu\"}\n",
    "y=js.dumps(x)\n",
    "print(y)\n",
    "type(y)"
   ]
  },
  {
   "cell_type": "code",
   "execution_count": 5,
   "id": "1d343018",
   "metadata": {},
   "outputs": [
    {
     "name": "stdout",
     "output_type": "stream",
     "text": [
      "jaydeep\n"
     ]
    }
   ],
   "source": [
    "import json as js\n",
    "x='{\"name\":\"jaydeep\",\"age\":25,\"city\":\"ahmedabad\"}'\n",
    "y=js.loads(x)\n",
    "print(y[\"name\"])\n"
   ]
  },
  {
   "cell_type": "code",
   "execution_count": null,
   "id": "f8dbdf15",
   "metadata": {},
   "outputs": [],
   "source": []
  },
  {
   "cell_type": "code",
   "execution_count": null,
   "id": "98f759dd",
   "metadata": {},
   "outputs": [],
   "source": []
  },
  {
   "cell_type": "markdown",
   "id": "e91c629b",
   "metadata": {},
   "source": [
    "# function"
   ]
  },
  {
   "cell_type": "code",
   "execution_count": 6,
   "id": "7a60ab23",
   "metadata": {},
   "outputs": [
    {
     "name": "stdout",
     "output_type": "stream",
     "text": [
      "1000\n",
      "{\"name\":\"jaydeep\",\"age\":25,\"city\":\"ahmedabad\"}\n"
     ]
    }
   ],
   "source": [
    "def myfunc():\n",
    "    x=1000\n",
    "    print(x)\n",
    "myfunc()\n",
    "print(x)"
   ]
  },
  {
   "cell_type": "code",
   "execution_count": 7,
   "id": "48cf3715",
   "metadata": {},
   "outputs": [
    {
     "name": "stdout",
     "output_type": "stream",
     "text": [
      "456\n",
      "456\n"
     ]
    }
   ],
   "source": [
    "x=456\n",
    "def func():\n",
    "    print(x) \n",
    "func()\n",
    "print(x)"
   ]
  },
  {
   "cell_type": "code",
   "execution_count": 8,
   "id": "8ef09109",
   "metadata": {},
   "outputs": [
    {
     "name": "stdout",
     "output_type": "stream",
     "text": [
      "audi\n",
      "bmw\n",
      "honda\n"
     ]
    }
   ],
   "source": [
    "def my_function(cars):\n",
    "    for x in cars:\n",
    "        print(x)\n",
    "cars=[\"audi\",\"bmw\",\"honda\"]\n",
    "my_function(cars)"
   ]
  },
  {
   "cell_type": "code",
   "execution_count": 9,
   "id": "37655730",
   "metadata": {},
   "outputs": [
    {
     "name": "stdout",
     "output_type": "stream",
     "text": [
      "300\n"
     ]
    }
   ],
   "source": [
    "x=456\n",
    "def myfunc():\n",
    "    global x \n",
    "    x=300\n",
    "myfunc()\n",
    "print(x)"
   ]
  },
  {
   "cell_type": "code",
   "execution_count": 10,
   "id": "9275b032",
   "metadata": {},
   "outputs": [
    {
     "name": "stdout",
     "output_type": "stream",
     "text": [
      "what happen\n"
     ]
    }
   ],
   "source": [
    "def sting():\n",
    "    print(\"what happen\")\n",
    "sting()"
   ]
  },
  {
   "cell_type": "code",
   "execution_count": null,
   "id": "7ef86020",
   "metadata": {},
   "outputs": [],
   "source": []
  },
  {
   "cell_type": "markdown",
   "id": "c87623f4",
   "metadata": {},
   "source": [
    "# lambda function"
   ]
  },
  {
   "cell_type": "code",
   "execution_count": 11,
   "id": "51b344aa",
   "metadata": {},
   "outputs": [
    {
     "name": "stdout",
     "output_type": "stream",
     "text": [
      "18\n"
     ]
    }
   ],
   "source": [
    "x= lambda a:a+10\n",
    "print(x(8))"
   ]
  },
  {
   "cell_type": "code",
   "execution_count": 12,
   "id": "5b706b15",
   "metadata": {},
   "outputs": [
    {
     "name": "stdout",
     "output_type": "stream",
     "text": [
      "24\n"
     ]
    }
   ],
   "source": [
    "x=lambda a,b:a*b\n",
    "print(x(4,6))"
   ]
  },
  {
   "cell_type": "code",
   "execution_count": 13,
   "id": "bb1ed601",
   "metadata": {},
   "outputs": [
    {
     "name": "stdout",
     "output_type": "stream",
     "text": [
      "5.625\n"
     ]
    }
   ],
   "source": [
    "x=lambda a,b:a/b\n",
    "print(x(45,8))"
   ]
  },
  {
   "cell_type": "code",
   "execution_count": 14,
   "id": "e7ab07f9",
   "metadata": {},
   "outputs": [
    {
     "name": "stdout",
     "output_type": "stream",
     "text": [
      "4096\n"
     ]
    }
   ],
   "source": [
    "x=lambda a,b:a**b\n",
    "print(x(4,6))"
   ]
  },
  {
   "cell_type": "code",
   "execution_count": null,
   "id": "9e98ab45",
   "metadata": {},
   "outputs": [],
   "source": []
  },
  {
   "cell_type": "code",
   "execution_count": null,
   "id": "516acc43",
   "metadata": {},
   "outputs": [],
   "source": []
  },
  {
   "cell_type": "markdown",
   "id": "b2cf4e06",
   "metadata": {},
   "source": [
    "# class"
   ]
  },
  {
   "cell_type": "code",
   "execution_count": 15,
   "id": "6322c5fc",
   "metadata": {},
   "outputs": [
    {
     "name": "stdout",
     "output_type": "stream",
     "text": [
      "jaydeep\n",
      "25\n"
     ]
    }
   ],
   "source": [
    "class person:\n",
    "    def __init__(self,name,age):\n",
    "        self.name=name\n",
    "        self.age=age\n",
    "p1=person(\"jaydeep\",25)\n",
    "print(p1.name)\n",
    "print(p1.age)\n",
    "        "
   ]
  },
  {
   "cell_type": "code",
   "execution_count": 16,
   "id": "5556d779",
   "metadata": {},
   "outputs": [
    {
     "name": "stdout",
     "output_type": "stream",
     "text": [
      "ldce\n",
      "1946\n"
     ]
    }
   ],
   "source": [
    "class college:\n",
    "    def __init__(self,name,est):\n",
    "        self.name=name\n",
    "        self.est=est\n",
    "c1=college(\"ldce\",\"1946\")\n",
    "print(c1.name)\n",
    "print(c1.est)"
   ]
  },
  {
   "cell_type": "code",
   "execution_count": 17,
   "id": "369092c2",
   "metadata": {},
   "outputs": [
    {
     "name": "stdout",
     "output_type": "stream",
     "text": [
      "hello my name is jaydeep\n"
     ]
    }
   ],
   "source": [
    "class person:\n",
    "    def __init__(self,name,age):\n",
    "        self.name=name\n",
    "        self.age=age\n",
    "        \n",
    "    def myfunc(self):\n",
    "        print(\"hello my name is \" + self.name)\n",
    "        \n",
    "p1= person  (\"jaydeep\",25)\n",
    "p1.myfunc()"
   ]
  },
  {
   "cell_type": "code",
   "execution_count": null,
   "id": "ffeb7b74",
   "metadata": {},
   "outputs": [],
   "source": []
  },
  {
   "cell_type": "markdown",
   "id": "0e4a8400",
   "metadata": {},
   "source": [
    "# datetime "
   ]
  },
  {
   "cell_type": "code",
   "execution_count": 18,
   "id": "e9bf0c14",
   "metadata": {},
   "outputs": [
    {
     "name": "stdout",
     "output_type": "stream",
     "text": [
      "2022-11-23 11:11:53.248063\n"
     ]
    }
   ],
   "source": [
    "import datetime as dt\n",
    "x=dt.datetime.now()\n",
    "print(x)"
   ]
  },
  {
   "cell_type": "code",
   "execution_count": 19,
   "id": "6799fe3e",
   "metadata": {},
   "outputs": [
    {
     "name": "stdout",
     "output_type": "stream",
     "text": [
      "2022\n",
      "11\n",
      "23\n"
     ]
    }
   ],
   "source": [
    "print(x.year)\n",
    "print(x.month)\n",
    "print(x.day)"
   ]
  },
  {
   "cell_type": "code",
   "execution_count": 20,
   "id": "f6a4c80e",
   "metadata": {},
   "outputs": [
    {
     "name": "stdout",
     "output_type": "stream",
     "text": [
      "Wednesday\n"
     ]
    }
   ],
   "source": [
    "print(x.strftime(\"%A\"))"
   ]
  },
  {
   "cell_type": "code",
   "execution_count": 21,
   "id": "f4e9d3f2",
   "metadata": {},
   "outputs": [
    {
     "name": "stdout",
     "output_type": "stream",
     "text": [
      "Wed\n"
     ]
    }
   ],
   "source": [
    "print(x.strftime(\"%a\"))"
   ]
  },
  {
   "cell_type": "code",
   "execution_count": 22,
   "id": "70b7e59a",
   "metadata": {},
   "outputs": [
    {
     "name": "stdout",
     "output_type": "stream",
     "text": [
      "November\n"
     ]
    }
   ],
   "source": [
    "print(x.strftime(\"%B\"))"
   ]
  },
  {
   "cell_type": "code",
   "execution_count": 23,
   "id": "db38aa94",
   "metadata": {},
   "outputs": [
    {
     "name": "stdout",
     "output_type": "stream",
     "text": [
      "11/23/22\n"
     ]
    }
   ],
   "source": [
    "print(x.strftime(\"%D\"))"
   ]
  },
  {
   "cell_type": "code",
   "execution_count": 24,
   "id": "4417e64a",
   "metadata": {},
   "outputs": [
    {
     "name": "stdout",
     "output_type": "stream",
     "text": [
      "23\n"
     ]
    }
   ],
   "source": [
    "print(x.strftime(\"%d\"))"
   ]
  },
  {
   "cell_type": "code",
   "execution_count": null,
   "id": "eebffe06",
   "metadata": {},
   "outputs": [],
   "source": []
  },
  {
   "cell_type": "markdown",
   "id": "04de4b36",
   "metadata": {},
   "source": [
    "# math operation"
   ]
  },
  {
   "cell_type": "code",
   "execution_count": 25,
   "id": "d0a377d2",
   "metadata": {},
   "outputs": [
    {
     "name": "stdout",
     "output_type": "stream",
     "text": [
      "5\n"
     ]
    }
   ],
   "source": [
    "x=min(5,15,20)\n",
    "print(x)"
   ]
  },
  {
   "cell_type": "code",
   "execution_count": 26,
   "id": "f9ad84a5",
   "metadata": {},
   "outputs": [
    {
     "name": "stdout",
     "output_type": "stream",
     "text": [
      "96\n"
     ]
    }
   ],
   "source": [
    "y=max(45,78,96,32)\n",
    "print(y)"
   ]
  },
  {
   "cell_type": "code",
   "execution_count": 27,
   "id": "c42ead86",
   "metadata": {},
   "outputs": [
    {
     "name": "stdout",
     "output_type": "stream",
     "text": [
      "abc\n"
     ]
    }
   ],
   "source": [
    "x=min(\"abc\",\"ghj\",\"guio\",\"gju\")\n",
    "print(x)"
   ]
  },
  {
   "cell_type": "code",
   "execution_count": 28,
   "id": "73c793c6",
   "metadata": {},
   "outputs": [
    {
     "name": "stdout",
     "output_type": "stream",
     "text": [
      "guio\n"
     ]
    }
   ],
   "source": [
    "x=max(\"abc\",\"ghj\",\"guio\",\"gju\")\n",
    "print(x)"
   ]
  },
  {
   "cell_type": "code",
   "execution_count": 29,
   "id": "41c9cbd1",
   "metadata": {},
   "outputs": [
    {
     "name": "stdout",
     "output_type": "stream",
     "text": [
      "78.26\n"
     ]
    }
   ],
   "source": [
    "x=abs(-78.26)\n",
    "print(x)"
   ]
  },
  {
   "cell_type": "code",
   "execution_count": 30,
   "id": "dab5eec2",
   "metadata": {},
   "outputs": [
    {
     "name": "stdout",
     "output_type": "stream",
     "text": [
      "45.56 78\n"
     ]
    }
   ],
   "source": [
    "x=abs(-45.56)\n",
    "y=abs(-78)\n",
    "print(x,y)"
   ]
  },
  {
   "cell_type": "code",
   "execution_count": 31,
   "id": "7169a299",
   "metadata": {},
   "outputs": [
    {
     "name": "stdout",
     "output_type": "stream",
     "text": [
      "64\n"
     ]
    }
   ],
   "source": [
    "x=pow(2,6)\n",
    "print(x)"
   ]
  },
  {
   "cell_type": "code",
   "execution_count": 32,
   "id": "0c38095d",
   "metadata": {},
   "outputs": [
    {
     "name": "stdout",
     "output_type": "stream",
     "text": [
      "8.0\n"
     ]
    }
   ],
   "source": [
    "import math\n",
    "x=math.sqrt(64)\n",
    "print(x)"
   ]
  },
  {
   "cell_type": "code",
   "execution_count": 33,
   "id": "95db7c4e",
   "metadata": {},
   "outputs": [
    {
     "name": "stdout",
     "output_type": "stream",
     "text": [
      "3\n",
      "2\n"
     ]
    }
   ],
   "source": [
    "import math\n",
    "x=math.ceil(2.8)\n",
    "y=math.floor(2.8)\n",
    "print(x)\n",
    "print(y)"
   ]
  },
  {
   "cell_type": "code",
   "execution_count": null,
   "id": "fd44c71c",
   "metadata": {},
   "outputs": [],
   "source": []
  }
 ],
 "metadata": {
  "kernelspec": {
   "display_name": "Python 3 (ipykernel)",
   "language": "python",
   "name": "python3"
  },
  "language_info": {
   "codemirror_mode": {
    "name": "ipython",
    "version": 3
   },
   "file_extension": ".py",
   "mimetype": "text/x-python",
   "name": "python",
   "nbconvert_exporter": "python",
   "pygments_lexer": "ipython3",
   "version": "3.9.12"
  }
 },
 "nbformat": 4,
 "nbformat_minor": 5
}
